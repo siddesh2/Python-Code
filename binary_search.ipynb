{
 "cells": [
  {
   "cell_type": "code",
   "execution_count": null,
   "metadata": {},
   "outputs": [],
   "source": [
    "# # BINARY SEARCH\n",
    "#  it works only on sorted arrays\n",
    "# uses points[]\n",
    "# points = variable that point to certain indices\n",
    "\n",
    "# mid = low+high/2 if n>mid\n",
    "# n>mid\n",
    "# n<mid\n",
    "# n=mid"
   ]
  },
  {
   "cell_type": "code",
   "execution_count": 6,
   "metadata": {},
   "outputs": [],
   "source": [
    "def binary_search(arr,x):\n",
    "    low = 0\n",
    "    high=len(arr)-1\n",
    "    mid=  0\n",
    "    while low<=high: #[1,2,3,4,5]\n",
    "        mid=(high+low)//2\n",
    "        if arr[mid]<x:\n",
    "            low=mid+1\n",
    "        elif arr[mid]>x:\n",
    "            high=mid-1\n",
    "        else:\n",
    "            return mid,x\n",
    "    return -1"
   ]
  },
  {
   "cell_type": "code",
   "execution_count": 8,
   "metadata": {},
   "outputs": [
    {
     "data": {
      "text/plain": [
       "(15, 100)"
      ]
     },
     "execution_count": 8,
     "metadata": {},
     "output_type": "execute_result"
    }
   ],
   "source": [
    "array=[1,2,3,4,5,6,7,8,9,10,23,56,78,89,99,100,101]\n",
    "target =100\n",
    "binary_search(array,target)"
   ]
  },
  {
   "cell_type": "code",
   "execution_count": 1,
   "metadata": {},
   "outputs": [
    {
     "data": {
      "text/plain": [
       "(1, 2)"
      ]
     },
     "execution_count": 1,
     "metadata": {},
     "output_type": "execute_result"
    }
   ],
   "source": [
    "def bin(arr,n):\n",
    "    low=0\n",
    "    mid=0\n",
    "    high=(len(arr)-1)\n",
    "    while low<=high:\n",
    "        mid=(high+low)//2\n",
    "        if arr[mid]<n:\n",
    "            low=mid+1\n",
    "        elif arr[mid]>n:\n",
    "            high=mid-1\n",
    "        else:\n",
    "            return mid,n\n",
    "    return-1\n",
    "\n",
    "array1=[1,2,3,4,5]\n",
    "target=2\n",
    "bin(array1,target)"
   ]
  },
  {
   "cell_type": "code",
   "execution_count": 4,
   "metadata": {},
   "outputs": [],
   "source": [
    "array9=[9,8,7,6,5,4,3,2]\n",
    "target9=4\n",
    "bin(array9,target9)\n"
   ]
  },
  {
   "cell_type": "code",
   "execution_count": 9,
   "metadata": {},
   "outputs": [
    {
     "data": {
      "text/plain": [
       "(1, 2)"
      ]
     },
     "execution_count": 9,
     "metadata": {},
     "output_type": "execute_result"
    }
   ],
   "source": [
    "def binary_search(arr,x):\n",
    "    low=0\n",
    "    mid = 0\n",
    "    high = len(arr)-1\n",
    "    while (low<=high):\n",
    "        mid = (low+high) //2\n",
    "        if arr[mid]<x:\n",
    "            low = mid+1\n",
    "        elif arr[mid] >x:\n",
    "            high = mid-1\n",
    "        else:\n",
    "            return mid,x\n",
    "    return-1\n",
    "\n",
    "\n",
    "arr123=[1,2,3,4,5,6,7,8,9]\n",
    "target = 2\n",
    "binary_search(arr123,target)"
   ]
  }
 ],
 "metadata": {
  "kernelspec": {
   "display_name": "Python 3",
   "language": "python",
   "name": "python3"
  },
  "language_info": {
   "codemirror_mode": {
    "name": "ipython",
    "version": 3
   },
   "file_extension": ".py",
   "mimetype": "text/x-python",
   "name": "python",
   "nbconvert_exporter": "python",
   "pygments_lexer": "ipython3",
   "version": "3.12.1"
  }
 },
 "nbformat": 4,
 "nbformat_minor": 2
}
