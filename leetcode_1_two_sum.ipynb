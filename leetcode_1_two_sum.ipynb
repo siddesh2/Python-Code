{
 "cells": [
  {
   "cell_type": "code",
   "execution_count": 3,
   "metadata": {},
   "outputs": [
    {
     "data": {
      "text/plain": [
       "[0, 3]"
      ]
     },
     "execution_count": 3,
     "metadata": {},
     "output_type": "execute_result"
    }
   ],
   "source": [
    "# https://leetcode.com/problems/two-sum/description/\n",
    "\n",
    "def twosum(nums,target):\n",
    "    for i in range(len(nums)):\n",
    "        for j in range(i+1 , len(nums)):\n",
    "            if nums[i] + nums[j]  ==target:\n",
    "                return[i,j]\n",
    "            \n",
    "\n",
    "array1=[1,2,3,4,5]\n",
    "target = 5\n",
    "twosum(array1,target)"
   ]
  },
  {
   "cell_type": "code",
   "execution_count": 4,
   "metadata": {},
   "outputs": [
    {
     "data": {
      "text/plain": [
       "[3, 4]"
      ]
     },
     "execution_count": 4,
     "metadata": {},
     "output_type": "execute_result"
    }
   ],
   "source": [
    "def twosum(arr , taget):\n",
    "    for i in range(len(arr)):\n",
    "        for j in range(i+1 ,len(arr) ):\n",
    "            if arr[i] +arr[j] == target:\n",
    "                return[i,j]\n",
    "            \n",
    "array1=  [1,2,3,4,5]\n",
    "target = 9\n",
    "twosum(array1,target)"
   ]
  },
  {
   "cell_type": "code",
   "execution_count": 5,
   "metadata": {},
   "outputs": [
    {
     "data": {
      "text/plain": [
       "[2, 3]"
      ]
     },
     "execution_count": 5,
     "metadata": {},
     "output_type": "execute_result"
    }
   ],
   "source": [
    "def twosum(arr,target):\n",
    "    for i in range(len(arr)):\n",
    "        for j in range(i+1 , len(arr)):\n",
    "            if arr[i] + arr[j] == target:\n",
    "                return [i,j]\n",
    "array1=[1,2,3,4]\n",
    "target = 7\n",
    "\n",
    "twosum(array1,target)"
   ]
  },
  {
   "cell_type": "code",
   "execution_count": null,
   "metadata": {},
   "outputs": [],
   "source": []
  }
 ],
 "metadata": {
  "kernelspec": {
   "display_name": "Python 3",
   "language": "python",
   "name": "python3"
  },
  "language_info": {
   "codemirror_mode": {
    "name": "ipython",
    "version": 3
   },
   "file_extension": ".py",
   "mimetype": "text/x-python",
   "name": "python",
   "nbconvert_exporter": "python",
   "pygments_lexer": "ipython3",
   "version": "3.12.1"
  }
 },
 "nbformat": 4,
 "nbformat_minor": 2
}
