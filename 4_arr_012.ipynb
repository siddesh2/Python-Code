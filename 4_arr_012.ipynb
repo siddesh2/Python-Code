{
 "cells": [
  {
   "cell_type": "code",
   "execution_count": 9,
   "metadata": {},
   "outputs": [
    {
     "data": {
      "text/plain": [
       "[0, 0, 0, 0, 0, 0, 0, 1, 1, 1, 1, 1, 1, 2, 2, 2, 2, 2, 2]"
      ]
     },
     "execution_count": 9,
     "metadata": {},
     "output_type": "execute_result"
    }
   ],
   "source": [
    "# def sort_123(arr):\n",
    "#     low=0\n",
    "#     mid=0\n",
    "#     high=len(arr)-1\n",
    "#     while(mid<=high):\n",
    "#         if arr[mid]==0:\n",
    "#             arr[mid],arr[low] =arr[low],arr[mid]\n",
    "#             low+=1\n",
    "#             mid+=1\n",
    "#         elif arr[mid] == 1:\n",
    "#             mid+=1\n",
    "#         else:\n",
    "#             arr[high],arr[mid] =arr[mid],arr[high]\n",
    "#             high-=1\n",
    "#     return arr\n",
    "\n",
    "# arr=[0,1,2,0,2,1,0,2,1,2,1,0,0,1,2,0,1,2,0]\n",
    "# sort_123(arr)"
   ]
  },
  {
   "cell_type": "code",
   "execution_count": 4,
   "metadata": {},
   "outputs": [
    {
     "data": {
      "text/plain": [
       "[0, 0, 0, 1, 1, 1, 2, 2, 2]"
      ]
     },
     "execution_count": 4,
     "metadata": {},
     "output_type": "execute_result"
    }
   ],
   "source": [
    "def sort123(arr):\n",
    "    low = 0\n",
    "    mid = 0\n",
    "    high = len(arr)-1\n",
    "    while (mid<=high):\n",
    "        if arr[mid] == 0:\n",
    "            arr[low] ,arr[mid] =arr[mid],arr[low]\n",
    "            mid+=1\n",
    "            low+=1\n",
    "        elif arr[mid] ==1:\n",
    "            mid+=1\n",
    "        else:\n",
    "            arr[mid],arr[high] = arr[high],arr[mid]\n",
    "            high-=1\n",
    "    return arr\n",
    "\n",
    "\n",
    "arr123 = [0,1,2,0,1,2,0,1,2]\n",
    "sort123(arr123)\n"
   ]
  },
  {
   "cell_type": "code",
   "execution_count": 18,
   "metadata": {},
   "outputs": [
    {
     "data": {
      "text/plain": [
       "[0, 0, 0, 1, 1, 1, 1, 1, 1, 1, 2, 2, 2, 2, 2]"
      ]
     },
     "execution_count": 18,
     "metadata": {},
     "output_type": "execute_result"
    }
   ],
   "source": [
    "def sort(arr):\n",
    "    low=0\n",
    "    mid=0\n",
    "    high=len(arr)-1\n",
    "    while (mid<=high):\n",
    "        if arr[mid] ==0:\n",
    "            arr[mid],arr[low]= arr[low],arr[mid]\n",
    "            mid+=1\n",
    "            low+=1\n",
    "        elif arr[mid]==1:\n",
    "            mid+=1\n",
    "        else:\n",
    "            arr[mid],arr[high]=arr[high],arr[mid]\n",
    "            high-=1\n",
    "    return arr\n",
    "\n",
    "array0=[0,1,2,1,2,1,2,1,2,1,0,1,2,1,0]\n",
    "sort(array0)\n",
    "\n",
    "#time complexity\n",
    "# big 0(n) complexity"
   ]
  },
  {
   "cell_type": "code",
   "execution_count": 1,
   "metadata": {},
   "outputs": [],
   "source": [
    "def sort(arr):\n",
    "    low=0\n",
    "    mid=0\n",
    "    high=len(arr)-1\n",
    "    while (mid<=high):\n",
    "        if arr[mid] ==0:\n",
    "            arr[mid],arr[low] =arr[low],arr[mid]\n",
    "            mid+=1\n",
    "            low+=1\n",
    "        elif arr[mid] ==1:\n",
    "            mid+=1\n"
   ]
  }
 ],
 "metadata": {
  "kernelspec": {
   "display_name": "Python 3",
   "language": "python",
   "name": "python3"
  },
  "language_info": {
   "codemirror_mode": {
    "name": "ipython",
    "version": 3
   },
   "file_extension": ".py",
   "mimetype": "text/x-python",
   "name": "python",
   "nbconvert_exporter": "python",
   "pygments_lexer": "ipython3",
   "version": "3.12.1"
  }
 },
 "nbformat": 4,
 "nbformat_minor": 2
}
