{
 "cells": [
  {
   "cell_type": "code",
   "execution_count": 7,
   "metadata": {},
   "outputs": [],
   "source": [
    "#finding the maximum summ 0f arrray\n",
    "#find the largetst sum of contnious subarray\n",
    "# kadane's algorithm \n",
    "\n",
    "def max_sub_sum(arr):\n",
    "    curr_sum = 0\n",
    "    max_sum = -1000**7\n",
    "\n",
    "    for i in range(len(arr)):\n",
    "        curr_sum =max(arr[i],curr_sum +arr[i])\n",
    "        max_sum = max(max_sum , curr_sum)\n",
    "    return max_sum"
   ]
  },
  {
   "cell_type": "code",
   "execution_count": 10,
   "metadata": {},
   "outputs": [
    {
     "data": {
      "text/plain": [
       "15"
      ]
     },
     "execution_count": 10,
     "metadata": {},
     "output_type": "execute_result"
    }
   ],
   "source": [
    "arr=[0,1,2,3,4,5]\n",
    "max_sub_sum(arr)"
   ]
  },
  {
   "cell_type": "code",
   "execution_count": 15,
   "metadata": {},
   "outputs": [
    {
     "data": {
      "text/plain": [
       "5"
      ]
     },
     "execution_count": 15,
     "metadata": {},
     "output_type": "execute_result"
    }
   ],
   "source": [
    "def sums(arr):\n",
    "    curr=0\n",
    "    maxsum=-1000**7\n",
    "\n",
    "    for i in range(len(arr)):\n",
    "        curr = max(arr[i],curr+arr[i])\n",
    "        maxsum=max(maxsum,curr) \n",
    "    return maxsum\n",
    "\n",
    "\n",
    "array1=[-1,-2,5]\n",
    "sums(array1)"
   ]
  },
  {
   "cell_type": "code",
   "execution_count": 6,
   "metadata": {},
   "outputs": [
    {
     "data": {
      "text/plain": [
       "6"
      ]
     },
     "execution_count": 6,
     "metadata": {},
     "output_type": "execute_result"
    }
   ],
   "source": [
    "def kedance(arr):\n",
    "    curr=0\n",
    "    maxsum=-1000**6\n",
    "    for i in range(len(arr)):\n",
    "        curr=max(arr[i],curr+arr[i])\n",
    "        maxsum= max(maxsum,curr)\n",
    "    return maxsum\n",
    "\n",
    "ARRAY5=[1,2,3]\n",
    "kedance(ARRAY5)"
   ]
  },
  {
   "cell_type": "code",
   "execution_count": 5,
   "metadata": {},
   "outputs": [
    {
     "data": {
      "text/plain": [
       "3"
      ]
     },
     "execution_count": 5,
     "metadata": {},
     "output_type": "execute_result"
    }
   ],
   "source": []
  },
  {
   "cell_type": "code",
   "execution_count": null,
   "metadata": {},
   "outputs": [],
   "source": []
  }
 ],
 "metadata": {
  "kernelspec": {
   "display_name": "Python 3",
   "language": "python",
   "name": "python3"
  },
  "language_info": {
   "codemirror_mode": {
    "name": "ipython",
    "version": 3
   },
   "file_extension": ".py",
   "mimetype": "text/x-python",
   "name": "python",
   "nbconvert_exporter": "python",
   "pygments_lexer": "ipython3",
   "version": "3.12.1"
  }
 },
 "nbformat": 4,
 "nbformat_minor": 2
}
