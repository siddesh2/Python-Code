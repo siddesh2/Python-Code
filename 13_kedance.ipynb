{
 "cells": [
  {
   "cell_type": "code",
   "execution_count": 17,
   "metadata": {},
   "outputs": [],
   "source": [
    "# #finding the maximum summ 0f arrray\n",
    "# #find the largetst sum of contnious subarray\n",
    "# # kadane's algorithm \n",
    "\n",
    "# def max_sub_sum(arr):\n",
    "#     curr_sum = 0\n",
    "#     max_sum = -1000**7\n",
    "\n",
    "#     for i in range(len(arr)):\n",
    "#         curr_sum =max(arr[i],curr_sum +arr[i])\n",
    "#         max_sum = max(max_sum , curr_sum)\n",
    "#     return max_sum\n",
    "# arr=[-1,-2,-3,-4]\n",
    "# max_sub_sum(arr)"
   ]
  },
  {
   "cell_type": "code",
   "execution_count": 22,
   "metadata": {},
   "outputs": [
    {
     "data": {
      "text/plain": [
       "0"
      ]
     },
     "execution_count": 22,
     "metadata": {},
     "output_type": "execute_result"
    }
   ],
   "source": [
    "def sum(arr):\n",
    "    cur= 0\n",
    "    max_sum = -1000 **3\n",
    "    for i in range(len(arr)):\n",
    "        curr = max(arr[i] , cur + arr[i])\n",
    "        max_sum = max(cur ,max_sum)\n",
    "    return max_sum\n",
    "\n",
    "arra1 = [1,2,3,4,5]\n",
    "sum(arra1)"
   ]
  },
  {
   "cell_type": "code",
   "execution_count": 29,
   "metadata": {},
   "outputs": [
    {
     "data": {
      "text/plain": [
       "15"
      ]
     },
     "execution_count": 29,
     "metadata": {},
     "output_type": "execute_result"
    }
   ],
   "source": [
    "def kedance(arr):\n",
    "    cur = 0\n",
    "    max_sum = -1000 **7\n",
    "    for i in range(len(arr)):\n",
    "        cur = max(arr[i] , cur + arr[i])\n",
    "        max_sum = max(cur , max_sum)\n",
    "    return max_sum\n",
    "\n",
    "array1 = [1,2,3,4,5]\n",
    "kedance(array1)"
   ]
  },
  {
   "cell_type": "code",
   "execution_count": null,
   "metadata": {},
   "outputs": [
    {
     "data": {
      "text/plain": [
       "6"
      ]
     },
     "execution_count": 6,
     "metadata": {},
     "output_type": "execute_result"
    }
   ],
   "source": [
    "# def kedance(arr):\n",
    "#     curr=0\n",
    "#     maxsum=-1000**6\n",
    "#     for i in range(len(arr)):\n",
    "#         curr=max(arr[i],curr+arr[i])\n",
    "#         maxsum= max(maxsum,curr)\n",
    "#     return maxsum\n",
    "\n",
    "# ARRAY5=[1,2,3]\n",
    "# kedance(ARRAY5)"
   ]
  },
  {
   "cell_type": "code",
   "execution_count": null,
   "metadata": {},
   "outputs": [
    {
     "data": {
      "text/plain": [
       "50"
      ]
     },
     "execution_count": 5,
     "metadata": {},
     "output_type": "execute_result"
    }
   ],
   "source": [
    "# def max_sub_array(arr):\n",
    "#     curr_sum = 0\n",
    "#     max_sum = -1000**7\n",
    "#     for i in range(len(arr)):\n",
    "#         curr_sum = max(arr[i] , curr_sum + arr[i])\n",
    "#         max_sum = max(max_sum , curr_sum)\n",
    "#     return max_sum\n",
    "\n",
    "\n",
    "# arr=[1,2,3,4,5,-4,-5,-10,50]\n",
    "# max_sub_array(arr)"
   ]
  },
  {
   "cell_type": "code",
   "execution_count": null,
   "metadata": {},
   "outputs": [],
   "source": []
  },
  {
   "cell_type": "code",
   "execution_count": null,
   "metadata": {},
   "outputs": [],
   "source": []
  }
 ],
 "metadata": {
  "kernelspec": {
   "display_name": "Python 3",
   "language": "python",
   "name": "python3"
  },
  "language_info": {
   "codemirror_mode": {
    "name": "ipython",
    "version": 3
   },
   "file_extension": ".py",
   "mimetype": "text/x-python",
   "name": "python",
   "nbconvert_exporter": "python",
   "pygments_lexer": "ipython3",
   "version": "3.12.1"
  }
 },
 "nbformat": 4,
 "nbformat_minor": 2
}
