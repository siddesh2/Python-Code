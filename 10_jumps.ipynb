{
 "cells": [
  {
   "cell_type": "markdown",
   "metadata": {},
   "source": [
    "def jumps"
   ]
  },
  {
   "cell_type": "code",
   "execution_count": 5,
   "metadata": {},
   "outputs": [
    {
     "data": {
      "text/plain": [
       "3"
      ]
     },
     "execution_count": 5,
     "metadata": {},
     "output_type": "execute_result"
    }
   ],
   "source": [
    "def jumps(arr):\n",
    "    pos=0 #postion\n",
    "    des=0 #destination\n",
    "    jump=0\n",
    "    for i in range(len(arr)-1):\n",
    "        des = max(des,i+arr[i])\n",
    "        if pos == i:\n",
    "            pos= des\n",
    "            jump+=1\n",
    "    return jump\n",
    "arr=[1,2,3,4,5,6]\n",
    "jumps(arr)"
   ]
  },
  {
   "cell_type": "code",
   "execution_count": 6,
   "metadata": {},
   "outputs": [
    {
     "data": {
      "text/plain": [
       "3"
      ]
     },
     "execution_count": 6,
     "metadata": {},
     "output_type": "execute_result"
    }
   ],
   "source": [
    "def jump(arr):\n",
    "    pos = 0\n",
    "    des = 0\n",
    "    jup = 0\n",
    "    for i in range(len(arr)):\n",
    "        des = max(des, i+arr[i])\n",
    "        if pos == i:\n",
    "            pos =des\n",
    "            jup +=1\n",
    "    return jup\n",
    "\n",
    "array1 = [1,2,3,4,5]\n",
    "jump(array1)"
   ]
  },
  {
   "cell_type": "code",
   "execution_count": 7,
   "metadata": {},
   "outputs": [
    {
     "data": {
      "text/plain": [
       "3"
      ]
     },
     "execution_count": 7,
     "metadata": {},
     "output_type": "execute_result"
    }
   ],
   "source": [
    "def jump(arr):\n",
    "    jup = 0\n",
    "    pos = 0\n",
    "    des= 0\n",
    "    for i in range(len(arr)-1):\n",
    "        des = max(des ,  i + arr[i])\n",
    "        if pos == i:\n",
    "            pos = des\n",
    "            jup +=1\n",
    "    return jup\n",
    "\n",
    "\n",
    "array1= [1,2,3,4,5]\n",
    "jump(array1)"
   ]
  },
  {
   "cell_type": "code",
   "execution_count": 11,
   "metadata": {},
   "outputs": [
    {
     "data": {
      "text/plain": [
       "3"
      ]
     },
     "execution_count": 11,
     "metadata": {},
     "output_type": "execute_result"
    }
   ],
   "source": [
    "def jump(arr):\n",
    "    des = 0\n",
    "    pos = 0\n",
    "    jump=0 \n",
    "    for i in range(len(arr)-1):\n",
    "        des = max(des , i + arr[i])\n",
    "        if pos == i:\n",
    "            pos= des\n",
    "            jump +=1\n",
    "    return jump\n",
    "\n",
    "array1 = [1,2,3,4,5]\n",
    "jump(array1)\n",
    "\n",
    "        "
   ]
  },
  {
   "cell_type": "code",
   "execution_count": null,
   "metadata": {},
   "outputs": [],
   "source": []
  }
 ],
 "metadata": {
  "kernelspec": {
   "display_name": "Python 3",
   "language": "python",
   "name": "python3"
  },
  "language_info": {
   "codemirror_mode": {
    "name": "ipython",
    "version": 3
   },
   "file_extension": ".py",
   "mimetype": "text/x-python",
   "name": "python",
   "nbconvert_exporter": "python",
   "pygments_lexer": "ipython3",
   "version": "3.12.1"
  }
 },
 "nbformat": 4,
 "nbformat_minor": 2
}
