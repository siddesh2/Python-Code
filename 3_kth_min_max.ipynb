{
 "cells": [
  {
   "cell_type": "code",
   "execution_count": 8,
   "metadata": {},
   "outputs": [
    {
     "data": {
      "text/plain": [
       "(3, 1)"
      ]
     },
     "execution_count": 8,
     "metadata": {},
     "output_type": "execute_result"
    }
   ],
   "source": [
    "def min_max(arr,n):\n",
    "    if len(arr)<n and n<=0:\n",
    "        return 'yhe enetered array is not valid'\n",
    "    else:\n",
    "        arr.sort()\n",
    "        min=arr[n-1]\n",
    "        max=arr[len(arr)-n]\n",
    "        return min,max\n",
    "\n",
    "\n",
    "array1=[0,1,2,3,45]\n",
    "min_max(array1,4)"
   ]
  },
  {
   "cell_type": "code",
   "execution_count": 7,
   "metadata": {},
   "outputs": [
    {
     "data": {
      "text/plain": [
       "(5, 2)"
      ]
     },
     "execution_count": 7,
     "metadata": {},
     "output_type": "execute_result"
    }
   ],
   "source": [
    "# def ktm_min_max(arr,k):\n",
    "#     if len(arr)<k or k<=0:\n",
    "#         return \"array enter for k is not valid\"\n",
    "#     else:\n",
    "#         arr.sort()\n",
    "#         min=arr[k-1]\n",
    "#         max=arr[len(arr)-1]\n",
    "#         return min,max\n",
    "\n",
    "\n",
    "# array1=[9,8,7,6,5]\n",
    "# kthmin_max(array1)"
   ]
  },
  {
   "cell_type": "code",
   "execution_count": 7,
   "metadata": {},
   "outputs": [
    {
     "data": {
      "text/plain": [
       "(9, 5)"
      ]
     },
     "execution_count": 7,
     "metadata": {},
     "output_type": "execute_result"
    }
   ],
   "source": [
    "def kminmax(arr,k):\n",
    "    if len(arr)<k or k<=0:  \n",
    "        return \"the given array is not valid\"\n",
    "    else:\n",
    "        arr.sort()\n",
    "        min=arr[k-1]\n",
    "        max=arr[len(arr)-k]\n",
    "    return min,max\n",
    "    \n",
    "\n",
    "array=[9,8,7,6,5]\n",
    "kminmax(array,5)"
   ]
  },
  {
   "cell_type": "code",
   "execution_count": 7,
   "metadata": {},
   "outputs": [
    {
     "data": {
      "text/plain": [
       "(3, 3)"
      ]
     },
     "execution_count": 7,
     "metadata": {},
     "output_type": "execute_result"
    }
   ],
   "source": [
    "def min_max(arr,n):\n",
    "    if len(arr)<n or n<=0:\n",
    "        return \" the array is not valid\"\n",
    "    else:\n",
    "        arr.sort()\n",
    "        min = arr[n-1]\n",
    "        max= arr[len(arr)-1]\n",
    "    return min,max\n",
    "\n",
    "array1= [1,2,3]\n",
    "min_max(array1,3)"
   ]
  }
 ],
 "metadata": {
  "kernelspec": {
   "display_name": "Python 3",
   "language": "python",
   "name": "python3"
  },
  "language_info": {
   "codemirror_mode": {
    "name": "ipython",
    "version": 3
   },
   "file_extension": ".py",
   "mimetype": "text/x-python",
   "name": "python",
   "nbconvert_exporter": "python",
   "pygments_lexer": "ipython3",
   "version": "3.12.1"
  }
 },
 "nbformat": 4,
 "nbformat_minor": 2
}
