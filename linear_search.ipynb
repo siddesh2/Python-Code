{
 "cells": [
  {
   "cell_type": "code",
   "execution_count": 1,
   "metadata": {},
   "outputs": [],
   "source": [
    "def linear_search(arr,n):     #function\n",
    "    a=0   #variable\n",
    "    for i in range(len(arr)):\n",
    "        if arr[i] == n:\n",
    "            a=1\n",
    "            index =i\n",
    "    if a ==0:\n",
    "        print(\"element not found\")\n",
    "    else:\n",
    "        print(\"elememt found in the array of index\",index)\n"
   ]
  },
  {
   "cell_type": "code",
   "execution_count": 3,
   "metadata": {},
   "outputs": [
    {
     "name": "stdout",
     "output_type": "stream",
     "text": [
      "elememt found in the array of index 1\n"
     ]
    }
   ],
   "source": [
    "arr = [1,2,3,4,5,6,7]\n",
    "n=2\n",
    "linear_search(arr,n)"
   ]
  },
  {
   "cell_type": "code",
   "execution_count": 1,
   "metadata": {},
   "outputs": [],
   "source": [
    "def linear(arr,n):\n",
    "    count=0\n",
    "    for i in range(len(arr)):\n",
    "        if arr[i]==n:\n",
    "            count=1\n",
    "            break\n",
    "            index=i\n",
    "    if count ==1:\n",
    "        print(\"element found at index\",index)\n",
    "    else:\n",
    "        print(\"element not found\")\n",
    "        "
   ]
  },
  {
   "cell_type": "code",
   "execution_count": null,
   "metadata": {},
   "outputs": [],
   "source": []
  }
 ],
 "metadata": {
  "kernelspec": {
   "display_name": "Python 3",
   "language": "python",
   "name": "python3"
  },
  "language_info": {
   "codemirror_mode": {
    "name": "ipython",
    "version": 3
   },
   "file_extension": ".py",
   "mimetype": "text/x-python",
   "name": "python",
   "nbconvert_exporter": "python",
   "pygments_lexer": "ipython3",
   "version": "3.12.1"
  }
 },
 "nbformat": 4,
 "nbformat_minor": 2
}
