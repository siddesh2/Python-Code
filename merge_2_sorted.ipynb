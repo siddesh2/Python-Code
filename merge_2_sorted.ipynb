{
 "cells": [
  {
   "cell_type": "code",
   "execution_count": 1,
   "metadata": {},
   "outputs": [],
   "source": [
    "def merge(arr1,arr2):\n",
    "    i=0\n",
    "    j=0\n",
    "    arr = []\n",
    "    while i<len(arr1) and j <len(arr2):\n",
    "        if arr1[i] <arr2[j]:\n",
    "            arr.append(arr1[i])\n",
    "            i+=1\n",
    "        elif arr1[i] >arr2[j]:\n",
    "            arr.append(arr2[j])\n",
    "            j+=1\n",
    "        else:\n",
    "            arr.append(arr1[i])\n",
    "            arr.append(arr2[j])\n",
    "            i+=1\n",
    "            j+=1\n",
    "    while i<len(arr1):\n",
    "        arr.append(arr1[i])\n",
    "        i+=1\n",
    "    while j<len(arr2):\n",
    "        arr.append(arr2[j])\n",
    "        j+=1\n",
    "    return arr"
   ]
  },
  {
   "cell_type": "code",
   "execution_count": 2,
   "metadata": {},
   "outputs": [
    {
     "data": {
      "text/plain": [
       "[1, 2, 3, 4, 5, 6, 7, 8]"
      ]
     },
     "execution_count": 2,
     "metadata": {},
     "output_type": "execute_result"
    }
   ],
   "source": [
    "arr1 =[1,2,3,4]\n",
    "arr2=[5,6,7,8]\n",
    "merge(arr1,arr2)"
   ]
  }
 ],
 "metadata": {
  "kernelspec": {
   "display_name": "Python 3",
   "language": "python",
   "name": "python3"
  },
  "language_info": {
   "codemirror_mode": {
    "name": "ipython",
    "version": 3
   },
   "file_extension": ".py",
   "mimetype": "text/x-python",
   "name": "python",
   "nbconvert_exporter": "python",
   "pygments_lexer": "ipython3",
   "version": "3.12.1"
  }
 },
 "nbformat": 4,
 "nbformat_minor": 2
}
