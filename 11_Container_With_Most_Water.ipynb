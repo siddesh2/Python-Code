{
 "cells": [
  {
   "cell_type": "code",
   "execution_count": 2,
   "metadata": {},
   "outputs": [
    {
     "data": {
      "text/plain": [
       "49"
      ]
     },
     "execution_count": 2,
     "metadata": {},
     "output_type": "execute_result"
    }
   ],
   "source": [
    "# 11. Container With Most Water\n",
    "# https://leetcode.com/problems/container-with-most-water/description/\n",
    "\n",
    "\n",
    "def cont(arr):\n",
    "    start = 0\n",
    "    end = len(arr)-1\n",
    "    mid = 0\n",
    "    while start < end:\n",
    "        area = (end -start) * min(arr[start] ,arr[end])\n",
    "        mid = max(mid,area)\n",
    "        if arr[start] < arr[end]:\n",
    "            start+=1\n",
    "        elif arr[start] > arr[end]:\n",
    "            end -=1\n",
    "        else:\n",
    "            start+=1\n",
    "            end-=1\n",
    "    return mid\n",
    "\n",
    "arr = [1,8,6,2,5,4,8,3,7]\n",
    "cont(arr)"
   ]
  },
  {
   "cell_type": "code",
   "execution_count": 3,
   "metadata": {},
   "outputs": [
    {
     "data": {
      "text/plain": [
       "4"
      ]
     },
     "execution_count": 3,
     "metadata": {},
     "output_type": "execute_result"
    }
   ],
   "source": [
    "def cont(arr):\n",
    "    start = 0\n",
    "    mid = 0\n",
    "    end = len(arr)-1\n",
    "    while start < end:\n",
    "        area = (end - start) * min(arr[start] , arr[end])\n",
    "        mid = max(mid,area)\n",
    "        if arr[start] < arr[end]:\n",
    "            start+=1\n",
    "        elif arr[start] > arr[end]:\n",
    "            end-=1\n",
    "        else:\n",
    "            start+=1\n",
    "            end -=1\n",
    "    return mid\n",
    "\n",
    "\n",
    "arr=[1,2,3,4]\n",
    "cont(arr)"
   ]
  },
  {
   "cell_type": "code",
   "execution_count": 4,
   "metadata": {},
   "outputs": [
    {
     "data": {
      "text/plain": [
       "4"
      ]
     },
     "execution_count": 4,
     "metadata": {},
     "output_type": "execute_result"
    }
   ],
   "source": [
    "def cont(arr):\n",
    "    start=0\n",
    "    mid=0\n",
    "    end=len(arr)-1\n",
    "    while start < end:\n",
    "        area = (end - start) * min(arr[start], arr[end])\n",
    "        mid = max(mid,area)\n",
    "        if arr[start] < arr[end]:\n",
    "            start+=1\n",
    "        elif arr[start] > arr[end]:\n",
    "            end -=1\n",
    "        else:\n",
    "            start+=1\n",
    "            end -=1\n",
    "    return mid\n",
    "\n",
    "arr=[1,2,3,4]\n",
    "cont(arr)"
   ]
  },
  {
   "cell_type": "code",
   "execution_count": null,
   "metadata": {},
   "outputs": [],
   "source": []
  }
 ],
 "metadata": {
  "kernelspec": {
   "display_name": "Python 3",
   "language": "python",
   "name": "python3"
  },
  "language_info": {
   "codemirror_mode": {
    "name": "ipython",
    "version": 3
   },
   "file_extension": ".py",
   "mimetype": "text/x-python",
   "name": "python",
   "nbconvert_exporter": "python",
   "pygments_lexer": "ipython3",
   "version": "3.12.2"
  }
 },
 "nbformat": 4,
 "nbformat_minor": 2
}
