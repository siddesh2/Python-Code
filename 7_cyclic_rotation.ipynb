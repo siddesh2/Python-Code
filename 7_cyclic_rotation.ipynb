{
 "cells": [
  {
   "cell_type": "code",
   "execution_count": 1,
   "metadata": {},
   "outputs": [],
   "source": [
    "# def cyclic_rotaion(arr,n):\n",
    "#     for i in range(0,n):\n",
    "#         temp=arr[len(arr)-1]\n",
    "#         for j in range(len(arr)-1,0,-1):\n",
    "#             arr[j]=arr[j-1]\n",
    "#         arr[0]=temp\n",
    "#     return arr"
   ]
  },
  {
   "cell_type": "code",
   "execution_count": 3,
   "metadata": {},
   "outputs": [
    {
     "data": {
      "text/plain": [
       "[6, 3, 7, 3, 2, 5, 2]"
      ]
     },
     "execution_count": 3,
     "metadata": {},
     "output_type": "execute_result"
    }
   ],
   "source": [
    "# arr=[2,5,2,6,3,7,3]\n",
    "# n=4\n",
    "# cyclic_rotaion(arr,n)"
   ]
  },
  {
   "cell_type": "code",
   "execution_count": 2,
   "metadata": {},
   "outputs": [
    {
     "data": {
      "text/plain": [
       "[3, 4, 1, 2]"
      ]
     },
     "execution_count": 2,
     "metadata": {},
     "output_type": "execute_result"
    }
   ],
   "source": [
    "def cyc(arr,n):\n",
    "    for i in range(0,n):\n",
    "        high=arr[len(arr)-1]\n",
    "        for j in range(len(arr)-1,0,-1):\n",
    "            arr[j]=arr[j-1]\n",
    "        arr[0]=high\n",
    "    return arr\n",
    "\n",
    "\n",
    "arr=[1,2,3,4]\n",
    "n=2\n",
    "\n",
    "cyc(arr,n)"
   ]
  },
  {
   "cell_type": "code",
   "execution_count": 29,
   "metadata": {},
   "outputs": [
    {
     "data": {
      "text/plain": [
       "[4, 1, 2, 3]"
      ]
     },
     "execution_count": 29,
     "metadata": {},
     "output_type": "execute_result"
    }
   ],
   "source": [
    "def cyc1(arr,n):\n",
    "    for i in range(0,n):\n",
    "        high = arr[len(arr)-1]\n",
    "        for j in range(len(arr)-1,0,-1):\n",
    "            arr[j] = arr[j-1]\n",
    "        arr[0] = high\n",
    "    return arr\n",
    "\n",
    "arr2=[1,2,3,4]\n",
    "n=1\n",
    "cyc1(arr,n)"
   ]
  },
  {
   "cell_type": "code",
   "execution_count": 4,
   "metadata": {},
   "outputs": [
    {
     "data": {
      "text/plain": [
       "[6, 0, 1, 2, 3, 4, 5]"
      ]
     },
     "execution_count": 4,
     "metadata": {},
     "output_type": "execute_result"
    }
   ],
   "source": [
    "def cyclic_roatation(arr,n):\n",
    "    for i in range(0,n):\n",
    "        temp=arr[len(arr)-1]\n",
    "        for j in range(len(arr)-1,0,-1):\n",
    "            arr[j]=arr[j-1]\n",
    "        arr[0]=temp\n",
    "    return arr\n",
    "\n",
    "arr=[0,1,2,3,4,5,6]\n",
    "n=1\n",
    "cyclic_roatation(arr,n)"
   ]
  }
 ],
 "metadata": {
  "kernelspec": {
   "display_name": "Python 3",
   "language": "python",
   "name": "python3"
  },
  "language_info": {
   "codemirror_mode": {
    "name": "ipython",
    "version": 3
   },
   "file_extension": ".py",
   "mimetype": "text/x-python",
   "name": "python",
   "nbconvert_exporter": "python",
   "pygments_lexer": "ipython3",
   "version": "3.12.1"
  }
 },
 "nbformat": 4,
 "nbformat_minor": 2
}
