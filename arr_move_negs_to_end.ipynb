{
 "cells": [
  {
   "cell_type": "code",
   "execution_count": 4,
   "metadata": {},
   "outputs": [],
   "source": [
    "def abc(arr):\n",
    "    a=len(arr)\n",
    "    mid=0\n",
    "    high=a-1\n",
    "    while mid<=high:\n",
    "        if arr[mid]<0:\n",
    "            mid=mid+1 # mid+=1 incrementing given fucntion\n",
    "        else:\n",
    "            arr[mid],arr[high]=arr[high],arr[mid]\n",
    "            high=high-1\n",
    "    return arr"
   ]
  },
  {
   "cell_type": "code",
   "execution_count": 5,
   "metadata": {},
   "outputs": [
    {
     "data": {
      "text/plain": [
       "[-4, -2, -3, -4, -5, -6, -7, -8, -9, 0, 1, 3, 6, 7, 1]"
      ]
     },
     "execution_count": 5,
     "metadata": {},
     "output_type": "execute_result"
    }
   ],
   "source": [
    "a=[1,-2,-3,-4,-5,-6,-7,-8,-9,-4,0,1,3,6,7]\n",
    "abc(a)"
   ]
  },
  {
   "cell_type": "code",
   "execution_count": 5,
   "metadata": {},
   "outputs": [
    {
     "data": {
      "text/plain": [
       "[-6, -5, -2, -3, 4, 3, 2, 1, 2, 4, 6, 1]"
      ]
     },
     "execution_count": 5,
     "metadata": {},
     "output_type": "execute_result"
    }
   ],
   "source": [
    "def mov_neg(arr):\n",
    "    mid=0\n",
    "    high=len(arr)-1\n",
    "    while(mid<=high):\n",
    "        if arr[mid]<0:\n",
    "            mid+=1\n",
    "        else:\n",
    "            arr[mid],arr[high]=arr[high],arr[mid]\n",
    "            high-=1\n",
    "    return arr\n",
    "\n",
    "array9=[1,2,3,4,-3,-2,-5,-6,1,2,4,6]\n",
    "mov_neg(array9)"
   ]
  },
  {
   "cell_type": "code",
   "execution_count": 7,
   "metadata": {},
   "outputs": [
    {
     "data": {
      "text/plain": [
       "[1, 2, 3, 4, -1, -2, -3, -4, 1, 2, 3, 5]"
      ]
     },
     "execution_count": 7,
     "metadata": {},
     "output_type": "execute_result"
    }
   ],
   "source": []
  },
  {
   "cell_type": "code",
   "execution_count": null,
   "metadata": {},
   "outputs": [],
   "source": []
  },
  {
   "cell_type": "code",
   "execution_count": 8,
   "metadata": {},
   "outputs": [
    {
     "data": {
      "text/plain": [
       "[1, 2, 3, 4, -1, -2, -3, -4]"
      ]
     },
     "execution_count": 8,
     "metadata": {},
     "output_type": "execute_result"
    }
   ],
   "source": []
  },
  {
   "cell_type": "code",
   "execution_count": null,
   "metadata": {},
   "outputs": [],
   "source": []
  }
 ],
 "metadata": {
  "kernelspec": {
   "display_name": "Python 3",
   "language": "python",
   "name": "python3"
  },
  "language_info": {
   "codemirror_mode": {
    "name": "ipython",
    "version": 3
   },
   "file_extension": ".py",
   "mimetype": "text/x-python",
   "name": "python",
   "nbconvert_exporter": "python",
   "pygments_lexer": "ipython3",
   "version": "3.12.1"
  }
 },
 "nbformat": 4,
 "nbformat_minor": 2
}
