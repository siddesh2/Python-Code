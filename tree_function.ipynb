{
 "cells": [
  {
   "cell_type": "code",
   "execution_count": 3,
   "metadata": {},
   "outputs": [],
   "source": [
    "class Treenode:\n",
    "    def __init__(self,value):\n",
    "        self.left = None\n",
    "        self.right  = None\n",
    "        self.value  = value\n",
    "    def insert(self , value):\n",
    "        if value <self.value:\n",
    "            if self.left is None:\n",
    "                self.left = Treenode(value)\n",
    "            else:\n",
    "                self.left.insert(value)\n",
    "        else:\n",
    "            if self.right is None:\n",
    "                self.right = Treenode(value)\n",
    "            else:\n",
    "                self.right.insert(value)\n",
    "    def inorder_traversal(self):\n",
    "        if self.left:\n",
    "            self.left.inorder_traversal()\n",
    "        print(self.value)\n",
    "        if self.right:\n",
    "            self.right.inorder_traversal()\n",
    "    def preorder_traversal(self):\n",
    "        print(self.value)\n",
    "        if self.left:\n",
    "            self.left.preorder_traversal()\n",
    "        \n",
    "        if self.right:\n",
    "            self.right.preorder_traversal()\n",
    "    def postorder_traversal(self):\n",
    "        if self.left:\n",
    "            self.left.postorder_traversal()\n",
    "        \n",
    "        if self.right:\n",
    "            self.right.postorder_traversal()\n",
    "        print(self.value)\n",
    "    \n",
    "\n",
    "\n",
    "\n",
    "\n",
    "\n",
    "        "
   ]
  },
  {
   "cell_type": "code",
   "execution_count": 4,
   "metadata": {},
   "outputs": [],
   "source": [
    "tree = Treenode(5)"
   ]
  },
  {
   "cell_type": "code",
   "execution_count": 8,
   "metadata": {},
   "outputs": [],
   "source": [
    "tree.insert(2)\n",
    "tree.insert(3)\n",
    "tree.insert(45)\n",
    "tree.insert(45)\n",
    "tree.insert(42)\n",
    "tree.insert(45)\n",
    "tree.insert(46)\n",
    "tree.insert(57)\n",
    "tree.insert(86)"
   ]
  },
  {
   "cell_type": "code",
   "execution_count": 12,
   "metadata": {},
   "outputs": [
    {
     "data": {
      "text/plain": [
       "45"
      ]
     },
     "execution_count": 12,
     "metadata": {},
     "output_type": "execute_result"
    }
   ],
   "source": [
    "tree.right.value\n",
    "tree.right.right.right.value"
   ]
  },
  {
   "cell_type": "code",
   "execution_count": null,
   "metadata": {},
   "outputs": [],
   "source": []
  }
 ],
 "metadata": {
  "kernelspec": {
   "display_name": "Python 3",
   "language": "python",
   "name": "python3"
  },
  "language_info": {
   "codemirror_mode": {
    "name": "ipython",
    "version": 3
   },
   "file_extension": ".py",
   "mimetype": "text/x-python",
   "name": "python",
   "nbconvert_exporter": "python",
   "pygments_lexer": "ipython3",
   "version": "3.12.1"
  }
 },
 "nbformat": 4,
 "nbformat_minor": 2
}
