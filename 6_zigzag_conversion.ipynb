{
 "cells": [
  {
   "cell_type": "code",
   "execution_count": null,
   "metadata": {},
   "outputs": [],
   "source": [
    "# https://leetcode.com/problems/zigzag-conversion/description/\n",
    "# 6. Zigzag Conversion\n",
    "\n",
    "class Solution:\n",
    "    def convert(self, s: str, numRows: int) -> str:\n",
    "        if numRows == 1: return s\n",
    "        res = ''\n",
    "        for r in range(numRows):\n",
    "            inc =  2* (numRows -1)\n",
    "            for i in range(r,len(s) ,inc):\n",
    "                res+=s[i]\n",
    "                if (r >0 and r < numRows -1 and i + inc -2*r < len(s)):\n",
    "                    res +=s [i  + inc -2*r]\n",
    "        return res\n",
    "        "
   ]
  }
 ],
 "metadata": {
  "language_info": {
   "name": "python"
  }
 },
 "nbformat": 4,
 "nbformat_minor": 2
}
