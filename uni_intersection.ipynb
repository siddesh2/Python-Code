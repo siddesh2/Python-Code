{
 "cells": [
  {
   "cell_type": "code",
   "execution_count": 4,
   "metadata": {},
   "outputs": [],
   "source": [
    "def uni_int(arr1,arr2):\n",
    "    i=0 \n",
    "    j=0\n",
    "    m=len(arr1)\n",
    "    n=len(arr2)\n",
    "    uni=[]\n",
    "    inter=[]\n",
    "    while i<m and j<n:\n",
    "        if arr1[i] < arr2[j]:\n",
    "            uni.append(arr1[i])\n",
    "            i+=1\n",
    "        elif arr1[i] >arr2[j]:\n",
    "            uni.append(arr2[j])\n",
    "            j+=1\n",
    "        else:\n",
    "            uni.append(arr1[i])\n",
    "            inter.append(arr1[i])\n",
    "            j+=1\n",
    "            i+=1\n",
    "    while i<m: \n",
    "        uni.append(arr1[i])\n",
    "        i+=1\n",
    "    while j<n:\n",
    "        uni.append(arr2[j])\n",
    "        j+=1\n",
    "    return uni,inter"
   ]
  },
  {
   "cell_type": "code",
   "execution_count": 7,
   "metadata": {},
   "outputs": [
    {
     "data": {
      "text/plain": [
       "([1, 2, 3, 4, 5, 6, 5, 4, 3, 5, 3, 2, 8, 9, 10], [1, 2, 4, 6])"
      ]
     },
     "execution_count": 7,
     "metadata": {},
     "output_type": "execute_result"
    }
   ],
   "source": [
    "arr1=[1,2,3,4,5,6,5,4,3,5,3,2]\n",
    "arr2=[1,2,4,6,8,9,10]\n",
    "uni_int(arr1,arr2)"
   ]
  },
  {
   "cell_type": "markdown",
   "metadata": {},
   "source": [
    "a=[1,2,3,4,5]\n",
    "print(len(arr),0,-1)"
   ]
  },
  {
   "cell_type": "code",
   "execution_count": 10,
   "metadata": {},
   "outputs": [
    {
     "ename": "SyntaxError",
     "evalue": "incomplete input (1082833025.py, line 2)",
     "output_type": "error",
     "traceback": [
      "\u001b[1;36m  Cell \u001b[1;32mIn[10], line 2\u001b[1;36m\u001b[0m\n\u001b[1;33m    for i in range(0,10):\u001b[0m\n\u001b[1;37m                         ^\u001b[0m\n\u001b[1;31mSyntaxError\u001b[0m\u001b[1;31m:\u001b[0m incomplete input\n"
     ]
    }
   ],
   "source": [
    "def uni_int(arr1,arr2):\n",
    "    i=0\n",
    "    j=0\n",
    "    m=len(arr1)\n",
    "    n=len(arr2)\n",
    "    uni=[]\n",
    "    inter=[]\n",
    "    while i<m and j<n:\n",
    "        if arr1[i] < arr2[j]:\n",
    "            uni.append(arr1[i])\n",
    "            i+=1\n",
    "        elif arr1[i] >arr2[j]:\n",
    "            uni.append(arr2[j])\n",
    "            j+=1\n",
    "        else:\n",
    "            uni.append(arr1[i])\n",
    "            inter.append(arr1[i])\n",
    "            j+=1\n",
    "            i+=1\n",
    "    while i<m:\n",
    "        uni.append(arr1[i])\n",
    "        i+=1\n",
    "    while j<n:\n",
    "        uni.append(arr2[j])\n",
    "        j+=1\n",
    "    return uni,inter"
   ]
  },
  {
   "cell_type": "code",
   "execution_count": null,
   "metadata": {},
   "outputs": [],
   "source": []
  }
 ],
 "metadata": {
  "kernelspec": {
   "display_name": "Python 3",
   "language": "python",
   "name": "python3"
  },
  "language_info": {
   "codemirror_mode": {
    "name": "ipython",
    "version": 3
   },
   "file_extension": ".py",
   "mimetype": "text/x-python",
   "name": "python",
   "nbconvert_exporter": "python",
   "pygments_lexer": "ipython3",
   "version": "3.12.1"
  }
 },
 "nbformat": 4,
 "nbformat_minor": 2
}
