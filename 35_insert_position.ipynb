{
 "cells": [
  {
   "cell_type": "code",
   "execution_count": 5,
   "metadata": {},
   "outputs": [
    {
     "data": {
      "text/plain": [
       "5"
      ]
     },
     "execution_count": 5,
     "metadata": {},
     "output_type": "execute_result"
    }
   ],
   "source": [
    "# 35. Search Insert Position\n",
    "# https://leetcode.com/problems/search-insert-position/description/\n",
    "\n",
    "def searchInsert(nums):\n",
    "    l=0\n",
    "    h =len(nums) -1\n",
    "    here = 0\n",
    "    while l <= h:\n",
    "        m = (l+h) // 2\n",
    "        if nums[m] < target:\n",
    "            l=m+1\n",
    "        elif nums[m] >target:\n",
    "            h=m-1\n",
    "        else:\n",
    "            return m\n",
    "    return l\n",
    "\n",
    "arr=[1,2,4,5,6]\n",
    "target= 7\n",
    "searchInsert(arr)"
   ]
  },
  {
   "cell_type": "code",
   "execution_count": 7,
   "metadata": {},
   "outputs": [
    {
     "data": {
      "text/plain": [
       "2"
      ]
     },
     "execution_count": 7,
     "metadata": {},
     "output_type": "execute_result"
    }
   ],
   "source": [
    "def searchInsert(arr):\n",
    "    start = 0\n",
    "    end = len(arr)-1\n",
    "    while start <= end:\n",
    "        mid = (start+end )//2\n",
    "        if arr[start] < target:\n",
    "            start = mid +1\n",
    "        elif arr[start] >target:\n",
    "            end = mid - 1\n",
    "        else:\n",
    "            return mid\n",
    "    return start\n",
    "\n",
    "arr = [1,2,3,4]\n",
    "target = 2\n",
    "searchInsert(arr)"
   ]
  },
  {
   "cell_type": "code",
   "execution_count": 14,
   "metadata": {},
   "outputs": [
    {
     "ename": "TypeError",
     "evalue": "'<' not supported between instances of 'int' and 'list'",
     "output_type": "error",
     "traceback": [
      "\u001b[1;31m---------------------------------------------------------------------------\u001b[0m",
      "\u001b[1;31mTypeError\u001b[0m                                 Traceback (most recent call last)",
      "Cell \u001b[1;32mIn[14], line 17\u001b[0m\n\u001b[0;32m     15\u001b[0m arr\u001b[38;5;241m=\u001b[39m[\u001b[38;5;241m1\u001b[39m,\u001b[38;5;241m2\u001b[39m,\u001b[38;5;241m3\u001b[39m,\u001b[38;5;241m4\u001b[39m]\n\u001b[0;32m     16\u001b[0m target \u001b[38;5;241m=\u001b[39m [\u001b[38;5;241m2\u001b[39m]\n\u001b[1;32m---> 17\u001b[0m \u001b[43msearchInsert\u001b[49m\u001b[43m(\u001b[49m\u001b[43marr\u001b[49m\u001b[43m)\u001b[49m\n",
      "Cell \u001b[1;32mIn[14], line 7\u001b[0m, in \u001b[0;36msearchInsert\u001b[1;34m(arr)\u001b[0m\n\u001b[0;32m      5\u001b[0m \u001b[38;5;28;01mwhile\u001b[39;00m start\u001b[38;5;241m<\u001b[39m\u001b[38;5;241m=\u001b[39mend:\n\u001b[0;32m      6\u001b[0m     mid \u001b[38;5;241m=\u001b[39m (start\u001b[38;5;241m+\u001b[39mend)\u001b[38;5;241m/\u001b[39m\u001b[38;5;241m/\u001b[39m\u001b[38;5;241m2\u001b[39m\n\u001b[1;32m----> 7\u001b[0m     \u001b[38;5;28;01mif\u001b[39;00m \u001b[43marr\u001b[49m\u001b[43m[\u001b[49m\u001b[43mstart\u001b[49m\u001b[43m]\u001b[49m\u001b[43m \u001b[49m\u001b[38;5;241;43m<\u001b[39;49m\u001b[43m \u001b[49m\u001b[43mtarget\u001b[49m:\n\u001b[0;32m      8\u001b[0m         start \u001b[38;5;241m=\u001b[39m mid\u001b[38;5;241m+\u001b[39m\u001b[38;5;241m1\u001b[39m\n\u001b[0;32m      9\u001b[0m     \u001b[38;5;28;01melif\u001b[39;00m arr[start] \u001b[38;5;241m>\u001b[39m target:\n",
      "\u001b[1;31mTypeError\u001b[0m: '<' not supported between instances of 'int' and 'list'"
     ]
    }
   ],
   "source": [
    "# def searchInsert(arr):\n",
    "#     start = 0\n",
    "#     end = len(arr)-1\n",
    "\n",
    "#     while start<=end:\n",
    "#         mid = (start+end)//2\n",
    "#         if arr[start] < target:\n",
    "#             start = mid+1\n",
    "#         elif arr[start] > target:\n",
    "#             end = mid-1\n",
    "#         else:\n",
    "#             return mid\n",
    "#     return start\n",
    "\n",
    "# arr=[1,2,3,4]\n",
    "# target = [2]\n",
    "# searchInsert(arr)"
   ]
  },
  {
   "cell_type": "code",
   "execution_count": null,
   "metadata": {},
   "outputs": [],
   "source": []
  }
 ],
 "metadata": {
  "kernelspec": {
   "display_name": "Python 3",
   "language": "python",
   "name": "python3"
  },
  "language_info": {
   "codemirror_mode": {
    "name": "ipython",
    "version": 3
   },
   "file_extension": ".py",
   "mimetype": "text/x-python",
   "name": "python",
   "nbconvert_exporter": "python",
   "pygments_lexer": "ipython3",
   "version": "3.12.2"
  }
 },
 "nbformat": 4,
 "nbformat_minor": 2
}
