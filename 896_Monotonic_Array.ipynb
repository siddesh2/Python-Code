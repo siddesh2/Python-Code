{
 "cells": [
  {
   "cell_type": "code",
   "execution_count": 3,
   "metadata": {},
   "outputs": [
    {
     "data": {
      "text/plain": [
       "False"
      ]
     },
     "execution_count": 3,
     "metadata": {},
     "output_type": "execute_result"
    }
   ],
   "source": [
    "# https://leetcode.com/problems/monotonic-array/description/\n",
    "\n",
    "def mono(arr):\n",
    "    inc = True\n",
    "    dec = True\n",
    "    for i in range(len(arr)-1):\n",
    "        if arr[i] < arr[i+1]:\n",
    "            dec = False\n",
    "        if arr[i] > arr[i+1]:\n",
    "            inc = False\n",
    "    return inc or dec\n",
    "    \n",
    "\n",
    "arr=[1,2,5,3]\n",
    "mono(arr)\n",
    "\n",
    "            "
   ]
  },
  {
   "cell_type": "code",
   "execution_count": null,
   "metadata": {},
   "outputs": [],
   "source": []
  }
 ],
 "metadata": {
  "kernelspec": {
   "display_name": "Python 3",
   "language": "python",
   "name": "python3"
  },
  "language_info": {
   "codemirror_mode": {
    "name": "ipython",
    "version": 3
   },
   "file_extension": ".py",
   "mimetype": "text/x-python",
   "name": "python",
   "nbconvert_exporter": "python",
   "pygments_lexer": "ipython3",
   "version": "3.12.2"
  }
 },
 "nbformat": 4,
 "nbformat_minor": 2
}
