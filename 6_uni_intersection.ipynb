{
 "cells": [
  {
   "cell_type": "code",
   "execution_count": 4,
   "metadata": {},
   "outputs": [],
   "source": [
    "# def uni_int(arr1,arr2):  #kedance algorithm\n",
    "#     i=0 \n",
    "#     j=0\n",
    "#     m=len(arr1)\n",
    "#     n=len(arr2)\n",
    "#     uni=[]\n",
    "#     inter=[]\n",
    "#     while i<m and j<n:\n",
    "#         if arr1[i] < arr2[j]:\n",
    "#             uni.append(arr1[i])\n",
    "#             i+=1\n",
    "#         elif arr1[i] >arr2[j]:\n",
    "#             uni.append(arr2[j])\n",
    "#             j+=1\n",
    "#         else:\n",
    "#             uni.append(arr1[i])\n",
    "#             inter.append(arr1[i])\n",
    "#             j+=1\n",
    "#             i+=1\n",
    "#     while i<m: \n",
    "#         uni.append(arr1[i])\n",
    "#         i+=1\n",
    "#     while j<n:\n",
    "#         uni.append(arr2[j])\n",
    "#         j+=1\n",
    "#     return uni,inter"
   ]
  },
  {
   "cell_type": "code",
   "execution_count": 12,
   "metadata": {},
   "outputs": [
    {
     "ename": "TypeError",
     "evalue": "'list' object is not callable",
     "output_type": "error",
     "traceback": [
      "\u001b[1;31m---------------------------------------------------------------------------\u001b[0m",
      "\u001b[1;31mTypeError\u001b[0m                                 Traceback (most recent call last)",
      "Cell \u001b[1;32mIn[12], line 30\u001b[0m\n\u001b[0;32m     28\u001b[0m arr1\u001b[38;5;241m=\u001b[39m[\u001b[38;5;241m1\u001b[39m,\u001b[38;5;241m2\u001b[39m,\u001b[38;5;241m3\u001b[39m,\u001b[38;5;241m4\u001b[39m,\u001b[38;5;241m5\u001b[39m]\n\u001b[0;32m     29\u001b[0m arr2\u001b[38;5;241m=\u001b[39m[\u001b[38;5;241m3\u001b[39m,\u001b[38;5;241m4\u001b[39m,\u001b[38;5;241m5\u001b[39m]\n\u001b[1;32m---> 30\u001b[0m \u001b[43muni_inter\u001b[49m\u001b[43m(\u001b[49m\u001b[43marr1\u001b[49m\u001b[43m,\u001b[49m\u001b[43marr2\u001b[49m\u001b[43m)\u001b[49m\n",
      "Cell \u001b[1;32mIn[12], line 10\u001b[0m, in \u001b[0;36muni_inter\u001b[1;34m(arr1, arr2)\u001b[0m\n\u001b[0;32m      8\u001b[0m \u001b[38;5;28;01mwhile\u001b[39;00m i\u001b[38;5;241m<\u001b[39mm \u001b[38;5;129;01mand\u001b[39;00m j\u001b[38;5;241m<\u001b[39mn:\n\u001b[0;32m      9\u001b[0m     \u001b[38;5;28;01mif\u001b[39;00m arr1[i]\u001b[38;5;241m<\u001b[39marr2[j]:\n\u001b[1;32m---> 10\u001b[0m         uni\u001b[38;5;241m.\u001b[39mappend(\u001b[43marr1\u001b[49m\u001b[43m(\u001b[49m\u001b[43mi\u001b[49m\u001b[43m)\u001b[49m)            \n\u001b[0;32m     11\u001b[0m         i\u001b[38;5;241m+\u001b[39m\u001b[38;5;241m=\u001b[39m\u001b[38;5;241m1\u001b[39m\n\u001b[0;32m     12\u001b[0m     \u001b[38;5;28;01melif\u001b[39;00m arr1[i] \u001b[38;5;241m>\u001b[39m arr2[j]:\n",
      "\u001b[1;31mTypeError\u001b[0m: 'list' object is not callable"
     ]
    }
   ],
   "source": [
    "def uni_inter(arr1,arr2):\n",
    "    i=0\n",
    "    j=0\n",
    "    m=len(arr1)\n",
    "    n=len(arr2)\n",
    "    uni=[]\n",
    "    inter =[]\n",
    "    while i<m and j<n:\n",
    "        if arr1[i]<arr2[j]:\n",
    "            uni.append(arr1(i))            \n",
    "            i+=1\n",
    "        elif arr1[i] > arr2[j]:\n",
    "            uni.append(arr2(j))\n",
    "            j+=1\n",
    "        else:\n",
    "            uni.append(arr1[i])\n",
    "            inter.append(arr1[i])\n",
    "            i+=1\n",
    "            j+=1\n",
    "    while i < m:\n",
    "        uni.append(arr1[i])\n",
    "        i+=1\n",
    "    while j<n:\n",
    "        uni.append(arr2[j])\n",
    "        j+=1\n",
    "    return uni,inter\n",
    "\n",
    "arr1=[1,2,3,4,5]\n",
    "arr2=[3,4,5]\n",
    "uni_inter(arr1,arr2)\n"
   ]
  },
  {
   "cell_type": "code",
   "execution_count": 7,
   "metadata": {},
   "outputs": [
    {
     "data": {
      "text/plain": [
       "([1, 2, 3, 4, 5, 6, 5, 4, 3, 5, 3, 2, 8, 9, 10], [1, 2, 4, 6])"
      ]
     },
     "execution_count": 7,
     "metadata": {},
     "output_type": "execute_result"
    }
   ],
   "source": [
    "# arr1=[1,2,3,4,5,6,5,4,3,5,3,2]\n",
    "# arr2=[1,2,4,6,8,9,10]\n",
    "# uni_int(arr1,arr2)"
   ]
  },
  {
   "cell_type": "markdown",
   "metadata": {},
   "source": [
    "a=[1,2,3,4,5]\n",
    "print(len(arr),0,-1)"
   ]
  },
  {
   "cell_type": "code",
   "execution_count": 13,
   "metadata": {},
   "outputs": [
    {
     "data": {
      "text/plain": [
       "([1, 2, 3, 4], [3, 4])"
      ]
     },
     "execution_count": 13,
     "metadata": {},
     "output_type": "execute_result"
    }
   ],
   "source": [
    "def uni_int(arr1,arr2):\n",
    "    i=0\n",
    "    j=0\n",
    "    m=len(arr1)\n",
    "    n=len(arr2)\n",
    "    uni=[]\n",
    "    inter=[]\n",
    "    while i<m and j<n:\n",
    "        if arr1[i] < arr2[j]:\n",
    "            uni.append(arr1[i])\n",
    "            i+=1\n",
    "        elif arr1[i] >arr2[j]:\n",
    "            uni.append(arr2[j])\n",
    "            j+=1\n",
    "        else:\n",
    "            uni.append(arr1[i])\n",
    "            inter.append(arr1[i])\n",
    "            j+=1\n",
    "            i+=1\n",
    "    while i<m:\n",
    "        uni.append(arr1[i])\n",
    "        i+=1\n",
    "    while j<n:\n",
    "        uni.append(arr2[j])\n",
    "        j+=1\n",
    "    return uni,inter\n",
    "\n",
    "array123=[1,2,3,4]\n",
    "array345=[3,4]\n",
    "uni_int(array123,array345)"
   ]
  },
  {
   "cell_type": "code",
   "execution_count": 22,
   "metadata": {},
   "outputs": [
    {
     "data": {
      "text/plain": [
       "([1, 2, 3, 4, 5, 6], [4, 5, 6])"
      ]
     },
     "execution_count": 22,
     "metadata": {},
     "output_type": "execute_result"
    }
   ],
   "source": [
    "def uni_inter(arr1,arr2):\n",
    "    i=0\n",
    "    j=0\n",
    "    m=len(arr1)\n",
    "    n=len(arr2)\n",
    "    uni=[]\n",
    "    inter=[]\n",
    "    while i<m and j <n:\n",
    "        if arr1[i] <arr2[j]:\n",
    "            uni.append(arr1[i])\n",
    "            i+=1\n",
    "        elif arr1[i] > arr2[j]:\n",
    "            uni.append(arr2[j])\n",
    "            j+=1\n",
    "        else:\n",
    "            uni.append(arr1[i])\n",
    "            inter.append(arr2[j])\n",
    "            i+=1\n",
    "            j+=1\n",
    "    while i<m:\n",
    "        uni.append(arr1[i])\n",
    "        i+=1\n",
    "    while j<n:\n",
    "        inter.append(arr2[j])\n",
    "        j+=1\n",
    "    return uni,inter\n",
    "\n",
    "\n",
    "arr1=[1,2,3,4,5,6]\n",
    "arr2=[4,5,6]\n",
    "uni_inter(arr1,arr2)"
   ]
  },
  {
   "cell_type": "code",
   "execution_count": null,
   "metadata": {},
   "outputs": [],
   "source": []
  }
 ],
 "metadata": {
  "kernelspec": {
   "display_name": "Python 3",
   "language": "python",
   "name": "python3"
  },
  "language_info": {
   "codemirror_mode": {
    "name": "ipython",
    "version": 3
   },
   "file_extension": ".py",
   "mimetype": "text/x-python",
   "name": "python",
   "nbconvert_exporter": "python",
   "pygments_lexer": "ipython3",
   "version": "3.12.1"
  }
 },
 "nbformat": 4,
 "nbformat_minor": 2
}
