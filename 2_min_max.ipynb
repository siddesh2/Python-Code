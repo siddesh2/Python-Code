{
 "cells": [
  {
   "cell_type": "code",
   "execution_count": 4,
   "metadata": {},
   "outputs": [
    {
     "data": {
      "text/plain": [
       "(-5, 5)"
      ]
     },
     "execution_count": 4,
     "metadata": {},
     "output_type": "execute_result"
    }
   ],
   "source": [
    "def min_max(arr):\n",
    "    min=arr[0]\n",
    "    max=arr[0]\n",
    "    for i in range(len(arr)):\n",
    "        if arr[i]<min:\n",
    "            min=arr[i]\n",
    "        elif arr[i]>max:\n",
    "            max=arr[i]\n",
    "        else:\n",
    "            continue\n",
    "    return min,max\n",
    "\n",
    "array1=[-2,-1,0,1,2,3,4,5,-5]\n",
    "min_max(array1)"
   ]
  },
  {
   "cell_type": "code",
   "execution_count": 4,
   "metadata": {},
   "outputs": [
    {
     "data": {
      "text/plain": [
       "(6, 9)"
      ]
     },
     "execution_count": 4,
     "metadata": {},
     "output_type": "execute_result"
    }
   ],
   "source": [
    "# def min_max(arr):\n",
    "#     min=arr[0]\n",
    "#     max=arr[0]\n",
    "#     for i in range(len(arr)):\n",
    "#         if arr[i]<min:\n",
    "#             min=arr[i]\n",
    "#         elif arr[i]> max:\n",
    "#             max=arr[i]\n",
    "#         else:\n",
    "#             continue\n",
    "#     return min,max\n",
    "\n",
    "# array9=[9,8,7,6]\n",
    "# min_max(array9)"
   ]
  },
  {
   "cell_type": "code",
   "execution_count": 27,
   "metadata": {},
   "outputs": [
    {
     "name": "stdout",
     "output_type": "stream",
     "text": [
      "[2, 2, 2, 5, 6, 6, 6, 6, 23, 46, 35235]\n"
     ]
    }
   ],
   "source": [
    "# array3=[23,6,2,6,6,35235,46,2,5,2,6]\n",
    "# array3.sort()\n",
    "# print(array3)\n",
    "\n"
   ]
  },
  {
   "cell_type": "code",
   "execution_count": 7,
   "metadata": {},
   "outputs": [
    {
     "data": {
      "text/plain": [
       "(-5, 4)"
      ]
     },
     "execution_count": 7,
     "metadata": {},
     "output_type": "execute_result"
    }
   ],
   "source": [
    "def minmax(arr):\n",
    "    min = arr[0]\n",
    "    max = arr[0]\n",
    "    for i in range(len(arr)):\n",
    "        if arr[i]<min:\n",
    "            min = arr[i]\n",
    "        elif arr[i] > max:\n",
    "            max = arr[i]\n",
    "        else:\n",
    "            continue\n",
    "    return min,max\n",
    "\n",
    "array1= [0,1,2,3,4,-1,-2,-5]\n",
    "min_max(array1)"
   ]
  },
  {
   "cell_type": "code",
   "execution_count": null,
   "metadata": {},
   "outputs": [],
   "source": []
  }
 ],
 "metadata": {
  "kernelspec": {
   "display_name": "Python 3",
   "language": "python",
   "name": "python3"
  },
  "language_info": {
   "codemirror_mode": {
    "name": "ipython",
    "version": 3
   },
   "file_extension": ".py",
   "mimetype": "text/x-python",
   "name": "python",
   "nbconvert_exporter": "python",
   "pygments_lexer": "ipython3",
   "version": "3.12.1"
  }
 },
 "nbformat": 4,
 "nbformat_minor": 2
}
